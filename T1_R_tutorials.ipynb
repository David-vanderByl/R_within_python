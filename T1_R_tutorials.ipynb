{
 "cells": [
  {
   "attachments": {},
   "cell_type": "markdown",
   "metadata": {},
   "source": [
    "# R within Python Tutorials\n",
    "---"
   ]
  },
  {
   "attachments": {},
   "cell_type": "markdown",
   "id": "f6f9c697",
   "metadata": {},
   "source": [
    "# Table of Contents\n",
    "- [1. Introduction to R](#1.-introduction-to-r)\n",
    "- [2. R Basics: Data Types and Variables](#2.-r-basics-data-types-and-variables)\n",
    "- [3. R Control Structures](#3.-r-control-structures)\n",
    "  - [3.1 If-else statements: ](#3.1-if-else-statements)\n",
    "  - [3.2 Loops: ](#3.2-loops)\n",
    "  - [3.3 Switch Statements: ](#3.3-switch-statements)\n",
    "- [4. R Functions](#4.-R-functions)\n",
    "  - [4.1 Function with default argument values:](#4.1-function-with-default-argument-values)\n",
    "  - [4.2 Function with variable number of arguments:](#4.2-function-with-variable-number-of-arguments)\n",
    "  - [4.3 Function that returns multiple values:](#4.3-function-that-returns-multiple-values)\n",
    "- [5. Data Manipulation in R](#5.-data-manipulation-in-r)\n",
    "  - [5.1 Vectors](#5.1-vectors)\n",
    "  - [5.2 Matrices](#5.2-matrices)\n",
    "  - [5.3 Data Frames](#5.3-data-frames)\n",
    "  - [5.4 Lists](#5.4-lists)\n",
    "- [6. Reading and Writing Data in R](#6.-reading-and-writing-data-in-r)\n",
    "  - [6.1 Writing Data](#6.1-writing-data)\n",
    "  - [6.2 Reading Data](#6.2-reading-data)\n",
    "- [7. Data Visualization in R](#7.-data-visualization-in-r)\n",
    "  - [7.1 Base R plot function:](#7.1-base-r-plot-function)\n",
    "  - [7.2 ggplot2:](#7.2-ggplot2)\n",
    "- [8. Statistical Analysis in R](#8.-statistical-analysis-in-r)\n",
    "  - [8.1 Basic Statistics:](#8.1-basic-statistics)\n",
    "  - [8.2 Regression Analysis:](#8.2-regression-analysis)\n",
    "  - [8.3 Hypothesis Testing:](#8.3-hypothesis-testing)\n",
    "  - [8.4 Non-parametric Tests:](#804-non-parametric-tests)\n",
    "- [9. R Programming via Python Using rpy2](#9.-r-programming-via-python-using-rpy2)\n",
    "  - [9.1 Installation:](#9.1-installation)\n",
    "  - [9.2 Importing rpy2:](#9.2-importing-rpy2)\n",
    "  - [9.3 Running R Code:](#9.3-running-r-code)\n",
    "  - [9.4 Working with R Packages:](#9.4-working-with-r-packages)\n",
    "  - [9.5 Converting Between R and Python Data Types:](#9.5-converting-between-r-and-python-data-types)\n",
    "- [10. Advanced R](#10.-advanced-r)\n",
    "  - [10.1 Apply Family of Functions:](#10.1-apply-family-of-functions)\n",
    "  - [10.2 The Tidyverse:](#10.2-the-tidyverse)\n",
    "  - [10.3 Custom R Functions:](#10.3-custom-r-functions)\n",
    "  - [10.4 Error Handling:](#10.4-error-handling)"
   ]
  },
  {
   "attachments": {},
   "cell_type": "markdown",
   "metadata": {},
   "source": [
    "## 1. Introduction to R\n"
   ]
  },
  {
   "attachments": {},
   "cell_type": "markdown",
   "metadata": {},
   "source": [
    "R is a programming language and free software environment for statistical computing and graphics. It is widely used among statisticians and data miners for developing statistical software and data analysis.\n",
    "\n",
    "Here are a few points to note about R:\n",
    "\n",
    "- R is case-sensitive.\n",
    "- R script files have the file extension .R.\n",
    "- The <- symbol is used for assignment in R, though = will also work.\n",
    "- Comments in R are added by using the # symbol at the start of the line.\n",
    "- The print() function can be used to display output.\n",
    "- The help() function can be used to find help on R topics.\n",
    "\n",
    "To use R within Python, you can use the rpy2 library. Here's an example:"
   ]
  },
  {
   "cell_type": "code",
   "execution_count": 1,
   "metadata": {},
   "outputs": [
    {
     "name": "stdout",
     "output_type": "stream",
     "text": [
      "[1] 10\n"
     ]
    }
   ],
   "source": [
    "import rpy2.robjects as robjects\n",
    "\n",
    "r_script = \"\"\"\n",
    "# This is a comment in R\n",
    "x <- 10  # assign the value 10 to x\n",
    "print(x)  # print the value of x\n",
    "\"\"\"\n",
    "\n",
    "robjects.r(r_script)\n"
   ]
  },
  {
   "attachments": {},
   "cell_type": "markdown",
   "metadata": {},
   "source": [
    "In this script, we assign the value 10 to the variable x in R, and then print the value of x.\n",
    "\n",
    "In the next part of the tutorial, I'll discuss data types and variables in R."
   ]
  },
  {
   "attachments": {},
   "cell_type": "markdown",
   "metadata": {},
   "source": [
    "## 2. R Basics: Data Types and Variables"
   ]
  },
  {
   "attachments": {},
   "cell_type": "markdown",
   "metadata": {},
   "source": [
    "In R, the basic types of data are often called \"atomic\" classes. These include:\n",
    "\n",
    "1. `numeric`: It is the default computational data type. If a number is input without a decimal point it will be treated as a numeric type.\n",
    "\n",
    "2. `integer`: Integer types are also numbers but are followed by an \"L\" to specify as an integer.\n",
    "\n",
    "3. `complex`: Complex types are written in the form a + bi where a and b are numeric types.\n",
    "\n",
    "4. `logical`: Logical types are boolean values and can take value TRUE, FALSE.\n",
    "\n",
    "5. `character`: Everything else is a character type. Strings are also classified as character types.\n",
    "\n",
    "Example usage of each type in R scripts run from Python using rpy2:"
   ]
  },
  {
   "cell_type": "code",
   "execution_count": 2,
   "metadata": {},
   "outputs": [
    {
     "name": "stdout",
     "output_type": "stream",
     "text": [
      "[1] 10.5\n",
      "[1] \"numeric\"\n",
      "[1] 10\n",
      "[1] \"integer\"\n",
      "[1] 3+2i\n",
      "[1] \"complex\"\n",
      "[1] TRUE\n",
      "[1] \"logical\"\n",
      "[1] \"Hello, R!\"\n",
      "[1] \"character\"\n"
     ]
    }
   ],
   "source": [
    "import rpy2.robjects as robjects\n",
    "\n",
    "r_script = \"\"\"\n",
    "# Numeric Type\n",
    "n <- 10.5\n",
    "print(n)\n",
    "print(class(n))  # check the class of the variable\n",
    "\n",
    "# Integer Type\n",
    "i <- 10L\n",
    "print(i)\n",
    "print(class(i))\n",
    "\n",
    "# Complex Type\n",
    "c <- 3 + 2i\n",
    "print(c)\n",
    "print(class(c))\n",
    "\n",
    "# Logical Type\n",
    "l <- TRUE\n",
    "print(l)\n",
    "print(class(l))\n",
    "\n",
    "# Character Type\n",
    "ch <- \"Hello, R!\"\n",
    "print(ch)\n",
    "print(class(ch))\n",
    "\"\"\"\n",
    "\n",
    "robjects.r(r_script)"
   ]
  },
  {
   "attachments": {},
   "cell_type": "markdown",
   "metadata": {},
   "source": [
    "This script defines variables of different types and then prints them along with their types.\n",
    "\n",
    "A common data structure in R is the vector. You can create a vector with the `c()` function, which stands for \"concatenate\". For example, `v <- c(1, 2, 3)` creates a numeric vector with the elements 1, 2, and 3. Vectors in R must contain elements of the same type.\n",
    "\n",
    "Next, in part 3, we'll look at control structures in R (such as if-else statements and loops)."
   ]
  },
  {
   "attachments": {},
   "cell_type": "markdown",
   "metadata": {},
   "source": [
    "## 3. R Control Structures"
   ]
  },
  {
   "attachments": {},
   "cell_type": "markdown",
   "metadata": {},
   "source": [
    "R, like many other programming languages, provides control structures allowing you to control the flow of execution of your scripts. Some of the important control structures are:\n",
    "\n",
    "### 3.1 If-else statements: \n",
    "\n",
    "Similar to other languages, if is used to execute a block of code if a condition is true. else is used to execute a block of code if the same condition is false."
   ]
  },
  {
   "cell_type": "code",
   "execution_count": 3,
   "metadata": {},
   "outputs": [
    {
     "name": "stdout",
     "output_type": "stream",
     "text": [
      "[1] \"x is positive\"\n"
     ]
    }
   ],
   "source": [
    "import rpy2.robjects as robjects\n",
    "\n",
    "r_script = \"\"\"\n",
    "x <- 5\n",
    "if (x > 0) {\n",
    "  print(\"x is positive\")\n",
    "} else {\n",
    "  print(\"x is non-positive\")\n",
    "}\n",
    "\"\"\"\n",
    "\n",
    "robjects.r(r_script)"
   ]
  },
  {
   "attachments": {},
   "cell_type": "markdown",
   "metadata": {},
   "source": [
    "### 3.2 Loops: \n",
    "\n",
    "Loops are used to repeatedly execute a block of code. R provides for, while, and repeat loops.\n",
    "\n",
    "`for` loop:"
   ]
  },
  {
   "attachments": {},
   "cell_type": "markdown",
   "metadata": {},
   "source": []
  },
  {
   "cell_type": "code",
   "execution_count": 4,
   "metadata": {},
   "outputs": [
    {
     "name": "stdout",
     "output_type": "stream",
     "text": [
      "[1] 1\n",
      "[1] 2\n",
      "[1] 3\n",
      "[1] 4\n",
      "[1] 5\n"
     ]
    }
   ],
   "source": [
    "import rpy2.robjects as robjects\n",
    "\n",
    "r_script = \"\"\"\n",
    "# R's for loop syntax is for (variable in sequence) { code }\n",
    "for (i in 1:5) {\n",
    "  print(i)\n",
    "}\n",
    "\"\"\"\n",
    "\n",
    "robjects.r(r_script)"
   ]
  },
  {
   "attachments": {},
   "cell_type": "markdown",
   "metadata": {},
   "source": [
    "`while` loop:"
   ]
  },
  {
   "cell_type": "code",
   "execution_count": 5,
   "metadata": {},
   "outputs": [
    {
     "name": "stdout",
     "output_type": "stream",
     "text": [
      "[1] 1\n",
      "[1] 2\n",
      "[1] 3\n",
      "[1] 4\n",
      "[1] 5\n"
     ]
    }
   ],
   "source": [
    "import rpy2.robjects as robjects\n",
    "\n",
    "r_script = \"\"\"\n",
    "# R's while loop syntax is while (condition) { code }\n",
    "i <- 1\n",
    "while (i <= 5) {\n",
    "  print(i)\n",
    "  i <- i + 1\n",
    "}\n",
    "\"\"\"\n",
    "\n",
    "robjects.r(r_script)"
   ]
  },
  {
   "attachments": {},
   "cell_type": "markdown",
   "metadata": {},
   "source": [
    "### 3.3 Switch Statements: \n",
    "\n",
    "switch statement is used to select one of many code blocks to be executed."
   ]
  },
  {
   "cell_type": "code",
   "execution_count": 6,
   "metadata": {},
   "outputs": [
    {
     "name": "stdout",
     "output_type": "stream",
     "text": [
      "[1] \"stop\"\n"
     ]
    }
   ],
   "source": [
    "import rpy2.robjects as robjects\n",
    "\n",
    "r_script = \"\"\"\n",
    "# R's switch syntax is switch(expression, case1, case2, ..., default)\n",
    "color <- \"red\"\n",
    "result <- switch(color,\n",
    "  \"red\" = \"stop\",\n",
    "  \"yellow\" = \"caution\",\n",
    "  \"green\" = \"go\",\n",
    "  \"unknown color\"\n",
    ")\n",
    "print(result)\n",
    "\"\"\"\n",
    "\n",
    "robjects.r(r_script)\n"
   ]
  },
  {
   "attachments": {},
   "cell_type": "markdown",
   "metadata": {},
   "source": [
    "## 4. R Functions"
   ]
  },
  {
   "attachments": {},
   "cell_type": "markdown",
   "metadata": {},
   "source": [
    "Functions are reusable blocks of code that perform a specific task. R comes with a large number of built-in functions and you can also create your own functions.\n",
    "\n",
    "Here's an example of defining a function in R:"
   ]
  },
  {
   "cell_type": "code",
   "execution_count": 7,
   "metadata": {},
   "outputs": [
    {
     "name": "stdout",
     "output_type": "stream",
     "text": [
      "[1] 16\n"
     ]
    }
   ],
   "source": [
    "import rpy2.robjects as robjects\n",
    "\n",
    "r_script = \"\"\"\n",
    "# Define a function\n",
    "square <- function(x) {\n",
    "  return(x^2)\n",
    "}\n",
    "\n",
    "# Call the function\n",
    "y <- square(4)\n",
    "print(y)\n",
    "\"\"\"\n",
    "\n",
    "robjects.r(r_script)\n"
   ]
  },
  {
   "attachments": {},
   "cell_type": "markdown",
   "metadata": {},
   "source": [
    "In this script, we define a function called square that takes one argument x and returns x squared. We then call this function with the argument 4 and print the result.\n",
    "\n",
    "Here are some more examples of functions in R:\n",
    "\n",
    "### 4.1 Function with default argument values:"
   ]
  },
  {
   "cell_type": "code",
   "execution_count": 8,
   "metadata": {},
   "outputs": [
    {
     "name": "stdout",
     "output_type": "stream",
     "text": [
      "[1] 4\n",
      "[1] 8\n"
     ]
    }
   ],
   "source": [
    "import rpy2.robjects as robjects\n",
    "\n",
    "r_script = \"\"\"\n",
    "# Define a function with default argument values\n",
    "pow <- function(x, y = 2) {\n",
    "  return(x^y)\n",
    "}\n",
    "\n",
    "# Call the function\n",
    "print(pow(2))  # y is not provided, so it defaults to 2\n",
    "print(pow(2, 3))  # y is provided, so it is used instead of the default\n",
    "\"\"\"\n",
    "\n",
    "robjects.r(r_script)\n"
   ]
  },
  {
   "attachments": {},
   "cell_type": "markdown",
   "metadata": {},
   "source": [
    "### 4.2 Function with variable number of arguments:"
   ]
  },
  {
   "cell_type": "code",
   "execution_count": 9,
   "metadata": {},
   "outputs": [
    {
     "name": "stdout",
     "output_type": "stream",
     "text": [
      "[1] 15\n"
     ]
    }
   ],
   "source": [
    "import rpy2.robjects as robjects\n",
    "\n",
    "r_script = \"\"\"\n",
    "# Define a function with variable number of arguments\n",
    "sum_all <- function(...) {\n",
    "  return(sum(c(...)))\n",
    "}\n",
    "\n",
    "# Call the function\n",
    "print(sum_all(1, 2, 3, 4, 5))  # sums all arguments\n",
    "\"\"\"\n",
    "\n",
    "robjects.r(r_script)\n"
   ]
  },
  {
   "attachments": {},
   "cell_type": "markdown",
   "metadata": {},
   "source": [
    "### 4.3 Function that returns multiple values:"
   ]
  },
  {
   "cell_type": "code",
   "execution_count": 10,
   "metadata": {},
   "outputs": [
    {
     "name": "stdout",
     "output_type": "stream",
     "text": [
      "mean  var \n",
      " 3.0  2.5 \n"
     ]
    }
   ],
   "source": [
    "import rpy2.robjects as robjects\n",
    "\n",
    "r_script = \"\"\"\n",
    "# Define a function that returns multiple values\n",
    "stats <- function(x) {\n",
    "  return(c(mean = mean(x), var = var(x)))\n",
    "}\n",
    "\n",
    "# Call the function\n",
    "result <- stats(c(1, 2, 3, 4, 5))\n",
    "print(result)\n",
    "\"\"\"\n",
    "\n",
    "robjects.r(r_script)\n"
   ]
  },
  {
   "attachments": {},
   "cell_type": "markdown",
   "metadata": {},
   "source": [
    "## 5. Data Manipulation in R\n",
    "\n",
    "In R, the primary tools for data manipulation are vectors, matrices, data frames, and lists. Here are some examples of each:\n",
    "\n",
    "### 5.1 Vectors\n",
    "\n",
    "As mentioned before, vectors are a fundamental data structure in R. They contain elements of the same type. Here's how you can manipulate vectors:"
   ]
  },
  {
   "cell_type": "code",
   "execution_count": 11,
   "metadata": {},
   "outputs": [
    {
     "name": "stdout",
     "output_type": "stream",
     "text": [
      "[1] 2 3 4 5 6\n",
      "[1]  4  6  8 10 12\n"
     ]
    }
   ],
   "source": [
    "import rpy2.robjects as robjects\n",
    "\n",
    "r_script = \"\"\"\n",
    "# Create a vector\n",
    "v <- c(1, 2, 3, 4, 5)\n",
    "\n",
    "# Add a number to each element of the vector\n",
    "v <- v + 1\n",
    "print(v)\n",
    "\n",
    "# Multiply each element of the vector by a number\n",
    "v <- v * 2\n",
    "print(v)\n",
    "\"\"\"\n",
    "\n",
    "robjects.r(r_script)"
   ]
  },
  {
   "attachments": {},
   "cell_type": "markdown",
   "metadata": {},
   "source": [
    "### 5.2 Matrices\n",
    "\n",
    "A matrix in R is a two-dimensional array where each element has the same mode (numeric, character, or logical). Here's how you can create and manipulate matrices:"
   ]
  },
  {
   "cell_type": "code",
   "execution_count": 12,
   "metadata": {},
   "outputs": [
    {
     "name": "stdout",
     "output_type": "stream",
     "text": [
      "     [,1] [,2] [,3]\n",
      "[1,]    1    3    5\n",
      "[2,]    2    4    6\n",
      "     [,1] [,2]\n",
      "[1,]    1    2\n",
      "[2,]    3    4\n",
      "[3,]    5    6\n",
      "     [,1] [,2]\n",
      "[1,]    2    3\n",
      "[2,]    4    5\n",
      "[3,]    6    7\n"
     ]
    }
   ],
   "source": [
    "import rpy2.robjects as robjects\n",
    "\n",
    "r_script = \"\"\"\n",
    "# Create a matrix\n",
    "m <- matrix(c(1, 2, 3, 4, 5, 6), nrow = 2, ncol = 3)\n",
    "print(m)\n",
    "\n",
    "# Transpose the matrix\n",
    "m <- t(m)\n",
    "print(m)\n",
    "\n",
    "# Add a number to each element of the matrix\n",
    "m <- m + 1\n",
    "print(m)\n",
    "\"\"\"\n",
    "\n",
    "robjects.r(r_script)\n"
   ]
  },
  {
   "attachments": {},
   "cell_type": "markdown",
   "metadata": {},
   "source": [
    "### 5.3 Data Frames\n",
    "\n",
    "Data frames are more general than matrices because different columns can contain different modes of data (numeric, character, etc.). This makes them a useful tool for storing datasets."
   ]
  },
  {
   "cell_type": "code",
   "execution_count": 13,
   "metadata": {},
   "outputs": [
    {
     "name": "stdout",
     "output_type": "stream",
     "text": [
      "     Name Age\n",
      "1   Alice  25\n",
      "2     Bob  32\n",
      "3 Charlie  37\n",
      "     Name Age Salary\n",
      "1   Alice  25  50000\n",
      "2     Bob  32  60000\n",
      "3 Charlie  37  70000\n"
     ]
    }
   ],
   "source": [
    "import rpy2.robjects as robjects\n",
    "\n",
    "r_script = \"\"\"\n",
    "# Create a data frame\n",
    "df <- data.frame(\n",
    "  Name = c(\"Alice\", \"Bob\", \"Charlie\"),\n",
    "  Age = c(25, 32, 37),\n",
    "  stringsAsFactors = FALSE\n",
    ")\n",
    "print(df)\n",
    "\n",
    "# Add a column to the data frame\n",
    "df$Salary <- c(50000, 60000, 70000)\n",
    "print(df)\n",
    "\"\"\"\n",
    "\n",
    "robjects.r(r_script)\n"
   ]
  },
  {
   "attachments": {},
   "cell_type": "markdown",
   "metadata": {},
   "source": [
    "### 5.4 Lists\n",
    "\n",
    "Lists in R are similar to Python lists. They can contain elements of different types and are mutable."
   ]
  },
  {
   "cell_type": "code",
   "execution_count": 14,
   "metadata": {},
   "outputs": [
    {
     "name": "stdout",
     "output_type": "stream",
     "text": [
      "$Name\n",
      "[1] \"Alice\"\n",
      "\n",
      "$Age\n",
      "[1] 25\n",
      "\n",
      "$Salary\n",
      "[1] 50000\n",
      "\n",
      "$Name\n",
      "[1] \"Alice\"\n",
      "\n",
      "$Age\n",
      "[1] 25\n",
      "\n",
      "$Salary\n",
      "[1] 50000\n",
      "\n",
      "$Occupation\n",
      "[1] \"Data Scientist\"\n",
      "\n"
     ]
    }
   ],
   "source": [
    "import rpy2.robjects as robjects\n",
    "\n",
    "r_script = \"\"\"\n",
    "# Create a list\n",
    "l <- list(Name = \"Alice\", Age = 25, Salary = 50000)\n",
    "print(l)\n",
    "\n",
    "# Add an element to the list\n",
    "l$Occupation <- \"Data Scientist\"\n",
    "print(l)\n",
    "\"\"\"\n",
    "\n",
    "robjects.r(r_script)\n"
   ]
  },
  {
   "attachments": {},
   "cell_type": "markdown",
   "metadata": {},
   "source": [
    "## 6. Reading and Writing Data in R\n",
    "\n",
    "R provides several functions for reading and writing data. Here's a look at some of them:\n",
    "\n",
    "\n",
    "First we'll create a simple `.csv`\n"
   ]
  },
  {
   "attachments": {},
   "cell_type": "markdown",
   "metadata": {},
   "source": [
    "### 6.1 Writing Data\n",
    "\n",
    "**Writing CSV Files with R:**"
   ]
  },
  {
   "cell_type": "code",
   "execution_count": 15,
   "metadata": {},
   "outputs": [],
   "source": [
    "import rpy2.robjects as robjects\n",
    "\n",
    "r_script = \"\"\"\n",
    "# Create a data frame\n",
    "df <- data.frame(\n",
    "  Name = c(\"Alice\", \"Bob\", \"Charlie\"),\n",
    "  Age = c(25, 32, 37),\n",
    "  stringsAsFactors = FALSE\n",
    ")\n",
    "\n",
    "# Write the data frame to a CSV file\n",
    "write.csv(df, './data/csv_R.csv', row.names = FALSE)\n",
    "\"\"\"\n",
    "\n",
    "robjects.r(r_script)\n"
   ]
  },
  {
   "attachments": {},
   "cell_type": "markdown",
   "metadata": {},
   "source": [
    "**Writing CSV Files with Python (pandas) using R dataframe:**"
   ]
  },
  {
   "cell_type": "code",
   "execution_count": 16,
   "metadata": {},
   "outputs": [],
   "source": [
    "import pandas as pd\n",
    "from rpy2.robjects import pandas2ri\n",
    "\n",
    "# Enable automatic conversion between pandas and R\n",
    "pandas2ri.activate()\n",
    "\n",
    "r_script = \"\"\"\n",
    "# Create a data frame\n",
    "df <- data.frame(\n",
    "  Name = c(\"Alice\", \"Bob\", \"Charlie\"),\n",
    "  Age = c(25, 32, 37),\n",
    "  stringsAsFactors = FALSE\n",
    ")\n",
    "df\n",
    "\"\"\"\n",
    "rdf = robjects.r(r_script)\n",
    "\n",
    "# Convert the R data frame to a pandas data frame\n",
    "df = pandas2ri.rpy2py(rdf)\n",
    "\n",
    "# Write the pandas data frame to a CSV file\n",
    "df.to_csv('./data/csv_python.csv', index=False)\n"
   ]
  },
  {
   "attachments": {},
   "cell_type": "markdown",
   "metadata": {},
   "source": [
    "### 6.2 Reading Data\n",
    "**Reading CSV Files with R:**"
   ]
  },
  {
   "cell_type": "code",
   "execution_count": 17,
   "metadata": {},
   "outputs": [
    {
     "name": "stdout",
     "output_type": "stream",
     "text": [
      "     Name Age\n",
      "1   Alice  25\n",
      "2     Bob  32\n",
      "3 Charlie  37\n"
     ]
    }
   ],
   "source": [
    "import rpy2.robjects as robjects\n",
    "\n",
    "r_script = \"\"\"\n",
    "# Read a CSV file into a data frame\n",
    "df <- read.csv('./data/csv_R.csv')\n",
    "\n",
    "# Print the first few rows of the data frame\n",
    "print(head(df))\n",
    "\"\"\"\n",
    "\n",
    "robjects.r(r_script)\n"
   ]
  },
  {
   "attachments": {},
   "cell_type": "markdown",
   "metadata": {},
   "source": [
    "**Reading CSV Files with Python (pandas) and then using it in R:**"
   ]
  },
  {
   "cell_type": "code",
   "execution_count": 18,
   "metadata": {},
   "outputs": [
    {
     "name": "stdout",
     "output_type": "stream",
     "text": [
      "     Name Age\n",
      "0   Alice  25\n",
      "1     Bob  32\n",
      "2 Charlie  37\n",
      "\n"
     ]
    }
   ],
   "source": [
    "import pandas as pd\n",
    "from rpy2.robjects import pandas2ri\n",
    "\n",
    "# Enable automatic conversion between pandas and R\n",
    "pandas2ri.activate()\n",
    "\n",
    "# Read a CSV file into a pandas data frame\n",
    "df = pd.read_csv('./data/csv_python.csv')\n",
    "\n",
    "# Convert the pandas data frame to an R data frame\n",
    "rdf = pandas2ri.py2rpy(df)\n",
    "\n",
    "# Now you can use rdf in your R scripts\n",
    "print(rdf)"
   ]
  },
  {
   "attachments": {},
   "cell_type": "markdown",
   "metadata": {},
   "source": [
    "## 7. Data Visualization in R\n",
    "\n",
    "R provides a number of ways to visualize data. The most commonly used data visualization package in R is `ggplot2`, but there are many others as well, including `lattice` and `plotly`. Below, we'll show examples using both base R functions and `ggplot2`.\n",
    "\n",
    "First, you'll need to install `ggplot2` package. In R, you can install packages using the `install.packages` function. Because we are working in Python, we'll have to do this via an R script:"
   ]
  },
  {
   "cell_type": "code",
   "execution_count": 23,
   "metadata": {},
   "outputs": [],
   "source": [
    "import rpy2.robjects as robjects\n",
    "\n",
    "r_script = \"\"\"\n",
    "# Suppress outputs and specify CRAN mirror\n",
    "capture.output(options(repos = c(CRAN = \"https://cloud.r-project.org\")))\n",
    "\n",
    "# Suppress outputs and install ggplot2\n",
    "capture.output(install.packages('ggplot2'))\n",
    "\"\"\"\n",
    "\n",
    "robjects.r(r_script)"
   ]
  },
  {
   "attachments": {},
   "cell_type": "markdown",
   "metadata": {},
   "source": [
    "Note: If you are running this on a server, you may need to specify a CRAN mirror for the package to be downloaded from. \n",
    "\n",
    "Now, let's get into the data visualization.\n",
    "\n",
    "### 7.1 Base R plot function:\n",
    "\n",
    "Here's an example of a simple scatter plot using the base R `plot` function:"
   ]
  },
  {
   "cell_type": "code",
   "execution_count": 37,
   "metadata": {},
   "outputs": [],
   "source": [
    "import rpy2.robjects as robjects\n",
    "\n",
    "r_script = \"\"\"\n",
    "# Create a scatter plot\n",
    "x <- c(1, 2, 3, 4, 5)\n",
    "y <- c(1, 4, 9, 16, 25)\n",
    "plot(x, y, main = \"Scatter plot\", xlab = \"x\", ylab = \"y\")\n",
    "\"\"\"\n",
    "\n",
    "robjects.r(r_script)"
   ]
  },
  {
   "attachments": {},
   "cell_type": "markdown",
   "metadata": {},
   "source": [
    "### 7.2 ggplot2:"
   ]
  },
  {
   "cell_type": "code",
   "execution_count": 39,
   "metadata": {},
   "outputs": [],
   "source": [
    "import rpy2.robjects as robjects\n",
    "\n",
    "r_script = \"\"\"\n",
    "library(ggplot2)\n",
    "\n",
    "# Create a scatter plot\n",
    "df <- data.frame(x = c(1, 2, 3, 4, 5), y = c(1, 4, 9, 16, 25))\n",
    "p <- ggplot(df, aes(x = x, y = y)) + geom_point() + labs(title = \"Scatter plot\", x = \"x\", y = \"y\")\n",
    "\n",
    "# Display the plot\n",
    "print(p)\n",
    "\"\"\"\n",
    "\n",
    "robjects.r(r_script)\n"
   ]
  },
  {
   "attachments": {},
   "cell_type": "markdown",
   "metadata": {},
   "source": [
    "**Note:** This will not directly display the plot when running from a Python script. To see the plot, you might want to save it as an image file and then display it. Here's how to do it:"
   ]
  },
  {
   "cell_type": "code",
   "execution_count": 40,
   "metadata": {},
   "outputs": [],
   "source": [
    "import rpy2.robjects as robjects\n",
    "\n",
    "r_script = \"\"\"\n",
    "library(ggplot2)\n",
    "\n",
    "# Create a scatter plot\n",
    "df <- data.frame(x = c(1, 2, 3, 4, 5), y = c(1, 4, 9, 16, 25))\n",
    "p <- ggplot(df, aes(x = x, y = y)) + geom_point() + labs(title = \"Scatter plot\", x = \"x\", y = \"y\")\n",
    "\n",
    "# Save the plot as a PNG file with adjusted dimensions\n",
    "ggsave('./figures/scatter_plot.png', plot = p, width = 160, height = 90, units = \"mm\")\n",
    "\"\"\"\n",
    "\n",
    "robjects.r(r_script)\n"
   ]
  },
  {
   "attachments": {},
   "cell_type": "markdown",
   "metadata": {},
   "source": [
    "\n",
    "Then in Python, you can use a library such as `matplotlib` or `IPython.display` to display the image:"
   ]
  },
  {
   "cell_type": "code",
   "execution_count": 41,
   "metadata": {},
   "outputs": [
    {
     "data": {
      "image/png": "[encoded data removed]",
      "text/plain": [
       "<IPython.core.display.Image object>"
      ]
     },
     "execution_count": 41,
     "metadata": {},
     "output_type": "execute_result"
    }
   ],
   "source": [
    "from IPython.display import Image\n",
    "\n",
    "Image(filename='./figures/scatter_plot.png') "
   ]
  },
  {
   "attachments": {},
   "cell_type": "markdown",
   "metadata": {},
   "source": [
    "In the next section, we'll look at how to perform statistical analysis in R."
   ]
  },
  {
   "attachments": {},
   "cell_type": "markdown",
   "metadata": {},
   "source": [
    "## 8. Statistical Analysis in R\n",
    "\n",
    "R was originally designed for statistical computing and includes an extensive array of built-in functions for statistical analyses. Here are some examples:\n",
    "\n",
    "### 8.1 Basic Statistics:\n",
    "\n",
    "For basic statistics such as mean, median, standard deviation, etc., you can use the respective functions in R."
   ]
  },
  {
   "cell_type": "code",
   "execution_count": 42,
   "metadata": {},
   "outputs": [
    {
     "name": "stdout",
     "output_type": "stream",
     "text": [
      "[1] 3\n",
      "[1] 3\n",
      "[1] 1.581139\n"
     ]
    }
   ],
   "source": [
    "import rpy2.robjects as robjects\n",
    "\n",
    "r_script = \"\"\"\n",
    "# Create a vector\n",
    "x <- c(1, 2, 3, 4, 5)\n",
    "\n",
    "# Calculate mean\n",
    "print(mean(x))\n",
    "\n",
    "# Calculate median\n",
    "print(median(x))\n",
    "\n",
    "# Calculate standard deviation\n",
    "print(sd(x))\n",
    "\"\"\"\n",
    "\n",
    "robjects.r(r_script)"
   ]
  },
  {
   "attachments": {},
   "cell_type": "markdown",
   "metadata": {},
   "source": [
    "\n",
    "### 8.2 Regression Analysis:\n",
    "\n",
    "For regression analysis, you can use the `lm` function (short for \"linear model\")."
   ]
  },
  {
   "cell_type": "code",
   "execution_count": 43,
   "metadata": {},
   "outputs": [
    {
     "name": "stdout",
     "output_type": "stream",
     "text": [
      "\n",
      "Call:\n",
      "lm(formula = y ~ x)\n",
      "\n",
      "Residuals:\n",
      "   1    2    3    4    5 \n",
      " 0.8 -0.4 -0.6 -0.8  1.0 \n",
      "\n",
      "Coefficients:\n",
      "            Estimate Std. Error t value Pr(>|t|)   \n",
      "(Intercept)  -1.0000     1.0132  -0.987  0.39644   \n",
      "x             2.2000     0.3055   7.201  0.00552 **\n",
      "---\n",
      "Signif. codes:  0 ‘***’ 0.001 ‘**’ 0.01 ‘*’ 0.05 ‘.’ 0.1 ‘ ’ 1\n",
      "\n",
      "Residual standard error: 0.9661 on 3 degrees of freedom\n",
      "Multiple R-squared:  0.9453,\tAdjusted R-squared:  0.9271 \n",
      "F-statistic: 51.86 on 1 and 3 DF,  p-value: 0.00552\n",
      "\n"
     ]
    }
   ],
   "source": [
    "import rpy2.robjects as robjects\n",
    "\n",
    "r_script = \"\"\"\n",
    "# Create data\n",
    "x <- c(1, 2, 3, 4, 5)\n",
    "y <- c(2, 3, 5, 7, 11)\n",
    "\n",
    "# Perform linear regression\n",
    "fit <- lm(y ~ x)\n",
    "\n",
    "# Print the summary of the fit\n",
    "print(summary(fit))\n",
    "\"\"\"\n",
    "\n",
    "robjects.r(r_script)"
   ]
  },
  {
   "attachments": {},
   "cell_type": "markdown",
   "metadata": {},
   "source": [
    "\n",
    "### 8.3 Hypothesis Testing:\n",
    "\n",
    "For hypothesis testing, you can use functions such as `t.test`, `chisq.test`, `anova`, etc."
   ]
  },
  {
   "cell_type": "code",
   "execution_count": 44,
   "metadata": {},
   "outputs": [
    {
     "name": "stdout",
     "output_type": "stream",
     "text": [
      "\n",
      "\tWelch Two Sample t-test\n",
      "\n",
      "data:  group1 and group2\n",
      "t = -1, df = 8, p-value = 0.3466\n",
      "alternative hypothesis: true difference in means is not equal to 0\n",
      "95 percent confidence interval:\n",
      " -3.306004  1.306004\n",
      "sample estimates:\n",
      "mean of x mean of y \n",
      "        3         4 \n",
      "\n"
     ]
    }
   ],
   "source": [
    "import rpy2.robjects as robjects\n",
    "\n",
    "r_script = \"\"\"\n",
    "# Perform a t-test\n",
    "group1 <- c(1, 2, 3, 4, 5)\n",
    "group2 <- c(2, 3, 4, 5, 6)\n",
    "\n",
    "t_test_result <- t.test(group1, group2)\n",
    "print(t_test_result)\n",
    "\"\"\"\n",
    "\n",
    "robjects.r(r_script)"
   ]
  },
  {
   "attachments": {},
   "cell_type": "markdown",
   "metadata": {},
   "source": [
    "### 8.4 Non-parametric Tests:\n",
    "\n",
    "For non-parametric tests, you can use functions like `wilcox.test` or `kruskal.test`."
   ]
  },
  {
   "cell_type": "code",
   "execution_count": 45,
   "metadata": {},
   "outputs": [
    {
     "name": "stdout",
     "output_type": "stream",
     "text": [
      "\n",
      "\tWilcoxon rank sum test with continuity correction\n",
      "\n",
      "data:  group1 and group2\n",
      "W = 8, p-value = 0.3976\n",
      "alternative hypothesis: true location shift is not equal to 0\n",
      "\n"
     ]
    },
    {
     "name": "stderr",
     "output_type": "stream",
     "text": [
      "R[write to console]: In addition: \n",
      "R[write to console]: Warning message:\n",
      "\n",
      "R[write to console]: In wilcox.test.default(group1, group2) :\n",
      "R[write to console]: \n",
      " \n",
      "R[write to console]:  cannot compute exact p-value with ties\n",
      "\n"
     ]
    }
   ],
   "source": [
    "import rpy2.robjects as robjects\n",
    "\n",
    "r_script = \"\"\"\n",
    "# Perform a Wilcoxon rank sum test\n",
    "group1 <- c(1, 2, 3, 4, 5)\n",
    "group2 <- c(2, 3, 4, 5, 6)\n",
    "\n",
    "wilcox_test_result <- wilcox.test(group1, group2)\n",
    "print(wilcox_test_result)\n",
    "\"\"\"\n",
    "\n",
    "robjects.r(r_script)"
   ]
  },
  {
   "attachments": {},
   "cell_type": "markdown",
   "metadata": {},
   "source": [
    "R also has support for more complex analyses, including ANOVA, chi-square tests, non-parametric statistics, etc. The exact function you'll need to use depends on the specifics of your analysis. R's extensive statistical function library is one of the reasons it's so popular for statistical analysis and data science. "
   ]
  },
  {
   "attachments": {},
   "cell_type": "markdown",
   "metadata": {},
   "source": [
    "## 9. R Programming via Python Using rpy2\n",
    "\n",
    "`rpy2` is an interface between Python and R. It allows you to run R from Python, making it a useful tool for data analysis workflows that incorporate both languages. Here's how you can use it:\n",
    "\n",
    "### 9.1 Installation:\n",
    "\n",
    "You can install `rpy2` using pip:\n",
    "\n",
    "```shell\n",
    "pip install rpy2\n",
    "```\n",
    "\n",
    "### 9.2 Importing rpy2:\n",
    "\n",
    "To use `rpy2`, you first need to import it in your Python script:"
   ]
  },
  {
   "cell_type": "code",
   "execution_count": 46,
   "metadata": {},
   "outputs": [],
   "source": [
    "import rpy2.robjects as robjects"
   ]
  },
  {
   "attachments": {},
   "cell_type": "markdown",
   "metadata": {},
   "source": [
    "### 9.3 Running R Code:\n",
    "\n",
    "You can run R code using the `r()` function:"
   ]
  },
  {
   "cell_type": "code",
   "execution_count": 47,
   "metadata": {},
   "outputs": [
    {
     "name": "stdout",
     "output_type": "stream",
     "text": [
      "[3.]\n"
     ]
    }
   ],
   "source": [
    "import rpy2.robjects as robjects\n",
    "\n",
    "r_script = \"\"\"\n",
    "x <- c(1, 2, 3, 4, 5)\n",
    "mean(x)\n",
    "\"\"\"\n",
    "result = robjects.r(r_script)\n",
    "\n",
    "print(result)"
   ]
  },
  {
   "attachments": {},
   "cell_type": "markdown",
   "metadata": {},
   "source": [
    "### 9.4 Working with R Packages:\n",
    "\n",
    "If you need to use an R package, you can import it with the `importr` function:"
   ]
  },
  {
   "cell_type": "code",
   "execution_count": 48,
   "metadata": {},
   "outputs": [
    {
     "name": "stdout",
     "output_type": "stream",
     "text": [
      "[1] 15\n",
      "\n"
     ]
    }
   ],
   "source": [
    "from rpy2.robjects.packages import importr\n",
    "\n",
    "# Import the 'base' package\n",
    "base = importr('base')\n",
    "\n",
    "# Call a function from the 'base' package\n",
    "print(base.sum(robjects.IntVector([1,2,3,4,5])))"
   ]
  },
  {
   "attachments": {},
   "cell_type": "markdown",
   "metadata": {},
   "source": [
    "### 9.5 Converting Between R and Python Data Types:\n",
    "\n",
    "`rpy2` provides ways to convert between R and Python data types. For example:"
   ]
  },
  {
   "cell_type": "code",
   "execution_count": 49,
   "metadata": {},
   "outputs": [
    {
     "name": "stdout",
     "output_type": "stream",
     "text": [
      "[1] \"abc\" \"def\" \"ghi\"\n",
      "\n"
     ]
    }
   ],
   "source": [
    "from rpy2.robjects.vectors import StrVector\n",
    "\n",
    "# Create an R vector from a Python list\n",
    "r_vector = StrVector(['abc', 'def', 'ghi'])\n",
    "\n",
    "print(r_vector)"
   ]
  },
  {
   "cell_type": "code",
   "execution_count": 50,
   "metadata": {},
   "outputs": [
    {
     "name": "stdout",
     "output_type": "stream",
     "text": [
      "  A B\n",
      "0 1 4\n",
      "1 2 5\n",
      "2 3 6\n",
      "\n"
     ]
    }
   ],
   "source": [
    "from rpy2.robjects import pandas2ri\n",
    "import pandas as pd\n",
    "\n",
    "# Enable automatic conversion between pandas and R\n",
    "pandas2ri.activate()\n",
    "\n",
    "# Create a pandas DataFrame\n",
    "df = pd.DataFrame({\n",
    "    'A': [1, 2, 3],\n",
    "    'B': [4, 5, 6],\n",
    "})\n",
    "\n",
    "# Convert the pandas DataFrame to an R DataFrame\n",
    "r_df = pandas2ri.py2rpy(df)\n",
    "\n",
    "print(r_df)"
   ]
  },
  {
   "attachments": {},
   "cell_type": "markdown",
   "metadata": {},
   "source": [
    "These examples should help you get started with using R via `rpy2`. While `rpy2` can be a little complex to work with at times, it provides a powerful way to combine the strengths of R and Python in a single data analysis workflow. "
   ]
  },
  {
   "attachments": {},
   "cell_type": "markdown",
   "metadata": {},
   "source": [
    "## 10. Advanced R\n",
    "\n",
    "Once you're comfortable with the basics of R and can execute simple scripts via Python using `rpy2`, you can delve into the advanced features of the R language. Some of these include:\n",
    "\n",
    "### 10.1 Apply Family of Functions:\n",
    "\n",
    "R's apply functions (`apply`, `lapply`, `sapply`, `mapply`, `tapply`) can be used for performing operations on data structures like vectors, lists, or data frames. These functions are often faster and more efficient than looping structures."
   ]
  },
  {
   "cell_type": "code",
   "execution_count": 51,
   "metadata": {},
   "outputs": [
    {
     "name": "stdout",
     "output_type": "stream",
     "text": [
      "[1] 12 15 18\n"
     ]
    }
   ],
   "source": [
    "import rpy2.robjects as robjects\n",
    "\n",
    "r_script = \"\"\"\n",
    "# Create a matrix\n",
    "x <- matrix(1:9, nrow = 3)\n",
    "\n",
    "# Use apply() to calculate the sum of each row\n",
    "row_sums <- apply(x, 1, sum)\n",
    "print(row_sums)\n",
    "\"\"\"\n",
    "\n",
    "robjects.r(r_script)"
   ]
  },
  {
   "attachments": {},
   "cell_type": "markdown",
   "metadata": {},
   "source": [
    "### 10.2 The Tidyverse:\n",
    "\n",
    "The Tidyverse is a collection of R packages designed for data science. They all share an underlying philosophy and common APIs. These packages include `dplyr` for data manipulation, `ggplot2` for data visualization, `tidyr` for tidying data, `readr` for reading data, and more."
   ]
  },
  {
   "cell_type": "code",
   "execution_count": 57,
   "metadata": {},
   "outputs": [
    {
     "name": "stdout",
     "output_type": "stream",
     "text": [
      "Saving 7 x 7 in image\n"
     ]
    }
   ],
   "source": [
    "import rpy2.robjects as robjects\n",
    "from rpy2.robjects.packages import importr\n",
    "from PIL import Image\n",
    "\n",
    "# Install and import the needed R packages\n",
    "tidyverse = importr(\"tidyverse\")\n",
    "grDevices = importr(\"grDevices\")\n",
    "\n",
    "# Use R code to create the plot and save it as a PNG file\n",
    "r_code = \"\"\"\n",
    "# Use dplyr to create a new data frame\n",
    "df <- tibble(\n",
    "  x = runif(5),\n",
    "  y = rnorm(5)\n",
    ")\n",
    "\n",
    "# Use ggplot2 to create a plot\n",
    "p <- ggplot(df, aes(x = x, y = y)) +\n",
    "  geom_point() +\n",
    "  labs(title = \"Scatter plot\", x = \"x\", y = \"y\")\n",
    "\n",
    "# Save the plot as a PNG file\n",
    "ggsave(\"scatter_plot.png\", plot = p)\n",
    "\"\"\"\n",
    "\n",
    "robjects.r(r_code)\n",
    "\n",
    "# Open the saved PNG file and display it\n",
    "image = Image.open(\"scatter_plot.png\")\n",
    "image.show()"
   ]
  },
  {
   "attachments": {},
   "cell_type": "markdown",
   "metadata": {},
   "source": [
    "### 10.3 Custom R Functions:\n",
    "\n",
    "You can also create your own R functions, which can be very useful for encapsulating code that you use frequently."
   ]
  },
  {
   "cell_type": "code",
   "execution_count": 58,
   "metadata": {},
   "outputs": [
    {
     "name": "stdout",
     "output_type": "stream",
     "text": [
      "[1] 8\n"
     ]
    }
   ],
   "source": [
    "import rpy2.robjects as robjects\n",
    "\n",
    "r_script = \"\"\"\n",
    "# Define a function\n",
    "power <- function(x, y) {\n",
    "  return(x ^ y)\n",
    "}\n",
    "\n",
    "# Use the function\n",
    "print(power(2, 3))\n",
    "\"\"\"\n",
    "\n",
    "robjects.r(r_script)"
   ]
  },
  {
   "attachments": {},
   "cell_type": "markdown",
   "metadata": {},
   "source": [
    "### 10.4 Error Handling:\n",
    "\n",
    "Just like Python, R has a mechanism for handling exceptions. The functions `try` and `tryCatch` can be used to capture and handle errors."
   ]
  },
  {
   "cell_type": "code",
   "execution_count": 59,
   "metadata": {},
   "outputs": [
    {
     "name": "stderr",
     "output_type": "stream",
     "text": [
      "R[write to console]: Error in log(\"a\") : non-numeric argument to mathematical function\n",
      "\n"
     ]
    },
    {
     "name": "stdout",
     "output_type": "stream",
     "text": [
      "[1] \"An error occurred.\"\n"
     ]
    }
   ],
   "source": [
    "import rpy2.robjects as robjects\n",
    "\n",
    "r_script = \"\"\"\n",
    "# Error handling with try()\n",
    "result <- try(log(\"a\"))\n",
    "if (class(result) == \"try-error\") {\n",
    "  print(\"An error occurred.\")\n",
    "} else {\n",
    "  print(result)\n",
    "}\n",
    "\"\"\"\n",
    "\n",
    "robjects.r(r_script)"
   ]
  },
  {
   "attachments": {},
   "cell_type": "markdown",
   "metadata": {},
   "source": [
    "These examples should give you a taste of some of the advanced capabilities that R has to offer. By combining R and Python, you have two powerful tools at your disposal for data analysis."
   ]
  }
 ],
 "metadata": {
  "kernelspec": {
   "display_name": "myenv",
   "language": "python",
   "name": "python3"
  },
  "language_info": {
   "codemirror_mode": {
    "name": "ipython",
    "version": 3
   },
   "file_extension": ".py",
   "mimetype": "text/x-python",
   "name": "python",
   "nbconvert_exporter": "python",
   "pygments_lexer": "ipython3",
   "version": "3.11.3"
  }
 },
 "nbformat": 4,
 "nbformat_minor": 2
}
